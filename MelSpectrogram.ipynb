{
  "nbformat": 4,
  "nbformat_minor": 0,
  "metadata": {
    "colab": {
      "name": "Mel_Spectrogram.ipynb",
      "provenance": [],
      "collapsed_sections": []
    },
    "kernelspec": {
      "name": "python3",
      "display_name": "Python 3"
    }
  },
  "cells": [
    {
      "cell_type": "code",
      "metadata": {
        "id": "9VPZE2RyBHav"
      },
      "source": [
        "import matplotlib.pyplot as plt\n",
        "import pylab\n",
        "import librosa\n",
        "import librosa.display\n",
        "import numpy as np"
      ],
      "execution_count": null,
      "outputs": []
    },
    {
      "cell_type": "code",
      "metadata": {
        "id": "8OpBxBxwCNvb",
        "colab": {
          "base_uri": "https://localhost:8080/"
        },
        "outputId": "e04d5ee2-3be8-4494-ac5b-8e132b0d4756"
      },
      "source": [
        "from google.colab import drive\n",
        "drive.mount('/content/drive')"
      ],
      "execution_count": null,
      "outputs": [
        {
          "output_type": "stream",
          "text": [
            "Drive already mounted at /content/drive; to attempt to forcibly remount, call drive.mount(\"/content/drive\", force_remount=True).\n"
          ],
          "name": "stdout"
        }
      ]
    },
    {
      "cell_type": "code",
      "metadata": {
        "id": "rek55ifGClh7"
      },
      "source": [
        "import os, sys\n",
        "\n",
        "# Open a file\n",
        "path = \"/content/drive/MyDrive/BTP/Datasets/Sound Data/New data - Post Mids/Truck_PM\"\n",
        "dirs = os.listdir(path)\n",
        "print(len(dirs))\n",
        "print(path+\"/\"+dirs[19])"
      ],
      "execution_count": null,
      "outputs": []
    },
    {
      "cell_type": "code",
      "metadata": {
        "id": "fmngKaZCBJaB",
        "colab": {
          "base_uri": "https://localhost:8080/"
        },
        "outputId": "c37ba0fb-620f-432c-b008-4b6d7cea9dcc"
      },
      "source": [
        "import os, sys\n",
        "\n",
        "# Open a file\n",
        "path = \"/content/drive/MyDrive/BTP/Datasets/Sound Data/New data - Post Mids/Truck_PM\"\n",
        "dirs = os.listdir(path)\n",
        "\n",
        "# This would print all the files and directories\n",
        "for f in range(len(dirs)):\n",
        "   audio_path = path+\"/\"+dirs[f]\n",
        "   x, sr = librosa.load(audio_path, sr=44100)\n",
        "   print(type(x), type(sr))\n",
        "   duration = round(librosa.get_duration(x, sr=sr))\n",
        "   print(duration)\n",
        "   a = [0 for i in range(duration)]\n",
        "   for i in range(duration):\n",
        "      a[i] = x[round((x.shape[0]/duration)*(i)):round((x.shape[0]/duration)*(i+1))]\n",
        "   \n",
        "   mel_spect_arr = [0 for i in range(duration)]\n",
        "   log_S = [0 for i in range(duration)]\n",
        "   for i in range(duration):\n",
        "    mel_spect_arr[i] = librosa.feature.melspectrogram(a[i], sr=sr)\n",
        "    log_S[i] = librosa.power_to_db(mel_spect_arr[i], ref=np.max)\n",
        "    pylab.axis('off') # no axis\n",
        "    pylab.axes([0., 0., 1., 1.], frameon=False, xticks=[], yticks=[])\n",
        "    librosa.display.specshow(log_S[i], sr=sr, x_axis='time', y_axis='mel')\n",
        "    pylab.savefig(\"/filepath/\"+dirs[f][:-4]+\"(\"+str(i)+\").jpg\", bbox_inches=None, pad_inches=0)\n",
        "    pylab.close()\n",
        "    "
      ],
      "execution_count": null,
      "outputs": [
        {
          "output_type": "stream",
          "text": [
            "<class 'numpy.ndarray'> <class 'int'>\n",
            "6482\n"
          ],
          "name": "stdout"
        }
      ]
    }
  ]
}