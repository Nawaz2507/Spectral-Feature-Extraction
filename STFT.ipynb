{
  "nbformat": 4,
  "nbformat_minor": 0,
  "metadata": {
    "colab": {
      "name": "STFT.ipynb",
      "provenance": [],
      "collapsed_sections": []
    },
    "kernelspec": {
      "name": "python3",
      "display_name": "Python 3"
    }
  },
  "cells": [
    {
      "cell_type": "code",
      "metadata": {
        "colab": {
          "base_uri": "https://localhost:8080/"
        },
        "id": "US_5Arsyu97H",
        "outputId": "53f05015-8c8d-4c2e-fc29-4650c50f947b"
      },
      "source": [
        "from google.colab import drive\n",
        "drive.mount('/content/drive')"
      ],
      "execution_count": null,
      "outputs": [
        {
          "output_type": "stream",
          "text": [
            "Mounted at /content/drive\n"
          ],
          "name": "stdout"
        }
      ]
    },
    {
      "cell_type": "code",
      "metadata": {
        "id": "gGd1hNmDu257"
      },
      "source": [
        "import os\n",
        "import matplotlib.pyplot as plt\n",
        "import pylab\n",
        "import librosa\n",
        "import librosa.display\n",
        "import numpy as np"
      ],
      "execution_count": null,
      "outputs": []
    },
    {
      "cell_type": "code",
      "metadata": {
        "id": "YOiu8qrVu5LR",
        "colab": {
          "base_uri": "https://localhost:8080/"
        },
        "outputId": "e54e40c2-bc48-4d50-87ef-15b987a5590b"
      },
      "source": [
        "import os, sys\n",
        "\n",
        "# Open a file\n",
        "path = \"/content/drive/MyDrive/BTP/Datasets/Sound Data/New data - Post Mids/Bus_PM\"\n",
        "dirs = os.listdir(path)\n",
        "\n",
        "# This would store all STFT images of files from index A to B-1 in the specified directory\n",
        "for f in range(A, B):\n",
        "   audio_path = path+\"/\"+dirs[f]\n",
        "   x, sr = librosa.load(audio_path, sr=44100)\n",
        "   print(type(x), type(sr))\n",
        "   \n",
        "   duration = round(librosa.get_duration(x, sr=sr))\n",
        "   print(duration)\n",
        "   a = [0 for i in range(duration)]\n",
        "   for i in range(duration):\n",
        "      a[i] = x[round((x.shape[0]/duration)*i):round((x.shape[0]/duration)*(i+1))]\n",
        "   \n",
        "   stft = [0 for i in range(duration)]\n",
        "   log_S = [0 for i in range(duration)]\n",
        "   for i in range(duration):\n",
        "     stft[i] = np.abs(librosa.stft(a[i]))\n",
        "     log_S[i] = librosa.amplitude_to_db(stft[i], ref = np.max)\n",
        "     pylab.axis('off') # no axis\n",
        "     pylab.axes([0., 0., 1., 1.], frameon=False, xticks=[], yticks=[])\n",
        "     librosa.display.specshow(log_S[i], sr=sr, x_axis='time', y_axis='log')\n",
        "     # plt.colorbar(format='%+2.0f dB')\n",
        "     # pylab.savefig(\"/content/drive/MyDrive/BTP/Datasets/MelSpectro_Classification_1sec/Bus/\"+str(i)+\".jpg\", bbox_inches=None, pad_inches=0)\n",
        "     pylab.savefig(\"/content/drive/MyDrive/BTP/Datasets/Features Used - Classifcation/NewData - Features/STFT_New_Data/Bus_STFT/\"+dirs[f][:-4]+\"(\"+str(i)+\").jpg\", bbox_inches=None, pad_inches=0)\n",
        "     pylab.close()\n",
        "    "
      ],
      "execution_count": null,
      "outputs": [
        {
          "output_type": "stream",
          "text": [
            "<class 'numpy.ndarray'> <class 'int'>\n",
            "7203\n"
          ],
          "name": "stdout"
        }
      ]
    },
    {
      "cell_type": "markdown",
      "metadata": {
        "id": "f6DiX-X0vBHQ"
      },
      "source": [
        "### For Individual Files"
      ]
    },
    {
      "cell_type": "code",
      "metadata": {
        "id": "XkU35w-Qu5Nu",
        "colab": {
          "base_uri": "https://localhost:8080/"
        },
        "outputId": "e7583ade-377b-4e6a-ce79-0329b7e17906"
      },
      "source": [
        "import os, sys\n",
        " \n",
        "# Open a file\n",
        "path = \"/content/drive/MyDrive/BTP/Datasets/Sound Data/New data - Post Mids/Bus_PM\"\n",
        "dirs = os.listdir(path)\n",
        " \n",
        "# This would print all the files and directories\n",
        "for file in dirs:\n",
        "   audio_path = path+\"/\"+file\n",
        "   x, sr = librosa.load(audio_path, sr=44100)\n",
        "   print(type(x), type(sr))\n",
        "   \n",
        "   duration = round(librosa.get_duration(x, sr=sr))\n",
        "   print(duration)\n",
        "   a = [0 for i in range(duration)]\n",
        "   for i in range(duration):\n",
        "      a[i] = x[round((x.shape[0]/duration)*(i)):round((x.shape[0]/duration)*(i+1))]\n",
        "   \n",
        "   stft = [0 for i in range(duration)]\n",
        "   log_S = [0 for i in range(duration)]\n",
        "   for i in range(duration):\n",
        "     stft[i] = np.abs(librosa.stft(a[i]))\n",
        "     log_S[i] = librosa.amplitude_to_db(stft[i], ref = np.max)\n",
        "     pylab.axis('off') # no axis\n",
        "     pylab.axes([0., 0., 1., 1.], frameon=False, xticks=[], yticks=[])\n",
        "     librosa.display.specshow(log_S[i], sr=sr, x_axis='time', y_axis='log')\n",
        "     # plt.colorbar(format='%+2.0f dB')\n",
        "     pylab.savefig(\"/filepath/\"+dirs[f][:-4]+\"(\"+str(i)+\").jpg\", bbox_inches=None, pad_inches=0)\n",
        "     pylab.close()\n",
        " \n",
        " \n",
        "\n"
      ],
      "execution_count": null,
      "outputs": [
        {
          "output_type": "stream",
          "text": [
            "<class 'numpy.ndarray'> <class 'int'>\n",
            "6482\n"
          ],
          "name": "stdout"
        }
      ]
    }
  ]
}