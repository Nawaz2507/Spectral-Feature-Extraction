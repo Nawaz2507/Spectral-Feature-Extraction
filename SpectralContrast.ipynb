{
  "nbformat": 4,
  "nbformat_minor": 0,
  "metadata": {
    "colab": {
      "name": "SpectralContrast.ipynb",
      "provenance": [],
      "collapsed_sections": []
    },
    "kernelspec": {
      "display_name": "Python 3",
      "name": "python3"
    }
  },
  "cells": [
    {
      "cell_type": "code",
      "metadata": {
        "colab": {
          "base_uri": "https://localhost:8080/"
        },
        "id": "UmRsASPo_7Fp",
        "outputId": "908c0621-c20b-476b-9117-bea116908677"
      },
      "source": [
        "from google.colab import drive\n",
        "drive.mount('/content/drive')"
      ],
      "execution_count": null,
      "outputs": [
        {
          "output_type": "stream",
          "text": [
            "Mounted at /content/drive\n"
          ],
          "name": "stdout"
        }
      ]
    },
    {
      "cell_type": "code",
      "metadata": {
        "id": "rN5MKmuf_lrk"
      },
      "source": [
        "import os\n",
        "import matplotlib.pyplot as plt\n",
        "import pylab\n",
        "import librosa\n",
        "import librosa.display\n",
        "import numpy as np"
      ],
      "execution_count": null,
      "outputs": []
    },
    {
      "cell_type": "markdown",
      "metadata": {
        "id": "RMJG83WVW6vF"
      },
      "source": [
        "### For all audio files in a given folder"
      ]
    },
    {
      "cell_type": "code",
      "metadata": {
        "id": "mfMLGUe__6gE"
      },
      "source": [
        "import os, sys\n",
        "\n",
        "# Open a file\n",
        "path = \"/content/drive/MyDrive/BTP/Datasets/Sound Data/New data - Post Mids/Truck_PM\"\n",
        "dirs = os.listdir(path)\n",
        "\n",
        "# This would print all the files and directories\n",
        "for f in range(len(dirs)):\n",
        "   audio_path = path+\"/\"+dirs[f]\n",
        "   x, sr = librosa.load(audio_path, sr=44100)\n",
        "   print(type(x), type(sr))\n",
        "   \n",
        "   duration = round(librosa.get_duration(x, sr=sr))\n",
        "   print(duration)\n",
        "   a = [0 for i in range(duration)]\n",
        "   for i in range(duration):\n",
        "      a[i] = x[round((x.shape[0]/duration)*i):round((x.shape[0]/duration)*(i+1))]\n",
        "   \n",
        "   stft = [0 for i in range(duration)]\n",
        "   Spec_Contrast = [0 for i in range(duration)]\n",
        "   for i in range(duration):\n",
        "    stft[i] = librosa.stft(a[i])\n",
        "    Spec_Contrast[i] = librosa.feature.spectral_contrast(S=np.abs(stft[i]), sr=sr)\n",
        "    pylab.axis('off') # no axis\n",
        "    pylab.axes([0., 0., 1., 1.], frameon=False, xticks=[], yticks=[])\n",
        "    librosa.display.specshow(Spec_Contrast[i], sr=sr, x_axis='time', y_axis='log')\n",
        "    pylab.savefig(\"/filepath/\"+dirs[f][:-4]+str(i)+\".jpg\", bbox_inches=None, pad_inches=0)\n",
        "    pylab.close()"
      ],
      "execution_count": null,
      "outputs": []
    },
    {
      "cell_type": "markdown",
      "metadata": {
        "id": "ONAmVyQiDnH5"
      },
      "source": [
        "### To prevent RAM overusage (in Google Colab), Process & extract images from files in batches"
      ]
    },
    {
      "cell_type": "code",
      "metadata": {
        "colab": {
          "base_uri": "https://localhost:8080/"
        },
        "id": "zR-eQCnA_6iq",
        "outputId": "c5f5bb70-0f47-4bae-c5f9-df674eaa94cc"
      },
      "source": [
        "import os, sys\n",
        "\n",
        "# Open a file\n",
        "path = \"/content/drive/MyDrive/BTP/Datasets/Sound Data/Truck\"\n",
        "dirs = os.listdir(path)\n",
        "\n",
        "# This would store all the images of files from A to B-1 \n",
        "for f in range(A, B):\n",
        "   audio_path = path+\"/\"+dirs[f]\n",
        "   x, sr = librosa.load(audio_path, sr=44100)\n",
        "   print(type(x), type(sr))\n",
        "   \n",
        "   duration = round(librosa.get_duration(x, sr=sr))\n",
        "   print(duration)\n",
        "   a = [0 for i in range(duration)]\n",
        "   for i in range(duration):\n",
        "      a[i] = x[round((x.shape[0]/duration)*i):round((x.shape[0]/duration)*(i+1))]\n",
        "   \n",
        "   stft = [0 for i in range(duration)]\n",
        "   Spec_Contrast = [0 for i in range(duration)]\n",
        "   for i in range(duration):\n",
        "    stft[i] = librosa.stft(a[i])\n",
        "    Spec_Contrast[i] = librosa.feature.spectral_contrast(S=np.abs(stft[i]), sr=sr)\n",
        "    pylab.axis('off') # no axis\n",
        "    pylab.axes([0., 0., 1., 1.], frameon=False, xticks=[], yticks=[])\n",
        "    librosa.display.specshow(Spec_Contrast[i], sr=sr, x_axis='time', y_axis='log')\n",
        "   # plt.colorbar(format='%+2.0f dB')\n",
        "  #  pylab.savefig(\"/content/drive/MyDrive/BTP/Datasets/MelSpectro_Classification_1sec/Bus/\"+str(i)+\".jpg\", bbox_inches=None, pad_inches=0)\n",
        "    pylab.savefig(\"/content/drive/MyDrive/BTP/Datasets/Features Used - Classifcation/SpectralContrast_Classifcation/Truck/\"+dirs[f][:-4]+\"(\"+str(i)+\").jpg\", bbox_inches=None, pad_inches=0)\n",
        "    pylab.close()"
      ],
      "execution_count": null,
      "outputs": [
        {
          "output_type": "stream",
          "text": [
            "<class 'numpy.ndarray'> <class 'int'>\n",
            "888\n",
            "<class 'numpy.ndarray'> <class 'int'>\n",
            "757\n",
            "<class 'numpy.ndarray'> <class 'int'>\n",
            "689\n",
            "<class 'numpy.ndarray'> <class 'int'>\n",
            "581\n"
          ],
          "name": "stdout"
        }
      ]
    },
    {
      "cell_type": "markdown",
      "metadata": {
        "id": "nWdGMw7VDiV5"
      },
      "source": [
        "### For Individual Files"
      ]
    },
    {
      "cell_type": "code",
      "metadata": {
        "colab": {
          "base_uri": "https://localhost:8080/"
        },
        "id": "-IVICv5b--oE",
        "outputId": "98f5816a-895f-4126-abc4-cac808487322"
      },
      "source": [
        "audio_path = \"/content/drive/MyDrive/BTP/Datasets/Sound Data/Car/Set 1/1GR60.wav\"\n",
        "x, sr = librosa.load(audio_path, sr=44100)\n",
        "print(type(x), type(sr))\n",
        "   \n",
        "duration = round(librosa.get_duration(x, sr=sr))\n",
        "print(duration)\n",
        "a = [0 for i in range(duration)]\n",
        "for i in range(duration):\n",
        "  a[i] = x[round((x.shape[0]/duration)*i):round((x.shape[0]/duration)*(i+1))]\n",
        "   \n",
        "stft = [0 for i in range(duration)]\n",
        "Spec_Contrast = [0 for i in range(duration)]\n",
        "for i in range(duration):\n",
        "  stft[i] = librosa.stft(a[i])\n",
        "  Spec_Contrast[i] = librosa.feature.spectral_contrast(S=np.abs(stft[i]), sr=sr)\n",
        "  pylab.axis('off') # no axis\n",
        "  pylab.axes([0., 0., 1., 1.], frameon=False, xticks=[], yticks=[])\n",
        "  librosa.display.specshow(Spec_Contrast[i], sr=sr, x_axis='time', y_axis='log')\n",
        "   # plt.colorbar(format='%+2.0f dB')\n",
        "  #  pylab.savefig(\"/content/drive/MyDrive/BTP/Datasets/MelSpectro_Classification_1sec/Bus/\"+str(i)+\".jpg\", bbox_inches=None, pad_inches=0)\n",
        "  pylab.savefig(\"/content/drive/MyDrive/BTP/Datasets/Features Used - Classifcation/SpectralContrast_Classifcation/Car/1GR60\"+\"(\"+str(i)+\").jpg\", bbox_inches=None, pad_inches=0)\n",
        "  pylab.close()"
      ],
      "execution_count": null,
      "outputs": [
        {
          "output_type": "stream",
          "text": [
            "<class 'numpy.ndarray'> <class 'int'>\n",
            "120\n"
          ],
          "name": "stdout"
        }
      ]
    },
    {
      "cell_type": "code",
      "metadata": {
        "id": "94PLfCpRLSPp"
      },
      "source": [
        ""
      ],
      "execution_count": null,
      "outputs": []
    }
  ]
}